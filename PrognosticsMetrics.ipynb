{
  "nbformat": 4,
  "nbformat_minor": 0,
  "metadata": {
    "colab": {
      "name": "PrognosticsMetrics.ipynb",
      "provenance": [],
      "collapsed_sections": [],
      "authorship_tag": "ABX9TyPSpbPcbxeyDNn9UTSQI79r",
      "include_colab_link": true
    },
    "kernelspec": {
      "name": "python3",
      "display_name": "Python 3"
    }
  },
  "cells": [
    {
      "cell_type": "markdown",
      "metadata": {
        "id": "view-in-github",
        "colab_type": "text"
      },
      "source": [
        "<a href=\"https://colab.research.google.com/github/OguzBektas/PredictiveMaintenance/blob/master/PrognosticsMetrics.ipynb\" target=\"_parent\"><img src=\"https://colab.research.google.com/assets/colab-badge.svg\" alt=\"Open In Colab\"/></a>"
      ]
    },
    {
      "cell_type": "markdown",
      "metadata": {
        "id": "HGnsJfVPvzCl",
        "colab_type": "text"
      },
      "source": [
        "### *Prognostic Metrics* \n",
        "by Oguz BEKTAS"
      ]
    },
    {
      "cell_type": "code",
      "metadata": {
        "id": "HN-AqEIo6w1Z",
        "colab_type": "code",
        "colab": {}
      },
      "source": [
        "T_RUL = [10, 5 , 120, 200, 300, 40, 85, 69, 72 , 98, 126] #True Remaining Useful Life\n",
        "RUL_E = [8 , 5 , 140, 198, 302, 37, 92, 55, 103, 99, 135] #Remaining Useful Life Estimate\n",
        "a1=13\n",
        "a2=10"
      ],
      "execution_count": 0,
      "outputs": []
    },
    {
      "cell_type": "code",
      "metadata": {
        "id": "lD-pPsOVhcSo",
        "colab_type": "code",
        "colab": {}
      },
      "source": [
        "import math \n",
        "\n",
        "def  PrognosticsMetrics(T_RUL, RUL_E, a1, a2):\n",
        "  ''' \n",
        "  by Oguz BEKTAS, email: oguz_bektas@hotmail.com \n",
        "\n",
        "  This functions applies the prognostics metrics by using the parameters of: \n",
        "\n",
        "  >>> T_RUL = True Remaining Useful Life\n",
        "  >>> RUL_E = Remaining Useful Life Estimate\n",
        "  >>> a1,a2 = Asymmetric Preference Parameters for Late and Early  Predictions such as a1=13 and a2=10\n",
        "\n",
        "  The equations are based on the works of \"Saxena, A., Celaya, J., Balaban, E., Goebel, K., Saha, B., \n",
        "  Saha, S. and Schwabacher, M., 2008, October. Metrics for evaluating performance of prognostic \n",
        "  techniques. In 2008 International Conference on Prognostics and Health Management (pp. 1-17). IEEE\"\n",
        "  in  which the authors surveyed the prognostic metrics that are already used in a variety of applications\n",
        "  and\n",
        "  \"Saxena, A. and Goebel, K., 2008. Turbofan engine degradation simulation data set. NASA Ames Prognostics \n",
        "  Data Repository.\"\n",
        "\n",
        "  Permission is hereby granted, free of charge, to any person obtaining a copy of this software and \n",
        "  associated documentation files (the \"Software\"), to deal in the Software without restriction, \n",
        "  including without limitation the rights to use, copy, modify, merge, publish, distribute, sublicense, \n",
        "  and/or sell copies of the Software, and to permit persons to whom the Software is furnished to do so, \n",
        "  subject to the following conditions:\n",
        "  \n",
        "  The above copyright notice and this permission notice shall be included in all copies or substantial \n",
        "  portions of the Software.\n",
        "  \n",
        "  THE SOFTWARE IS PROVIDED \"AS IS\", WITHOUT WARRANTY OF ANY KIND, EXPRESS OR IMPLIED, INCLUDING BUT NOT \n",
        "  LIMITED TO THE WARRANTIES OF MERCHANTABILITY, FITNESS FOR A PARTICULAR PURPOSE AND NONINFRINGEMENT. \n",
        "  IN NO EVENT SHALL THE AUTHORS OR COPYRIGHT HOLDERS BE LIABLE FOR ANY CLAIM, DAMAGES OR OTHER LIABILITY, \n",
        "  WHETHER IN AN ACTION OF CONTRACT, TORT OR OTHERWISE, ARISING FROM, OUT OF OR IN CONNECTION WITH THE \n",
        "  SOFTWARE OR THE USE OR OTHER DEALINGS IN THE SOFTWARE.\n",
        "\n",
        "  '''\n",
        "  print(\"Attention: Dimensions do not match\")  if len(T_RUL) != len(RUL_E) else print(\"Prognostic Metrics are:\")\n",
        "  \n",
        "  # Error is the deviation from True Remaining Useful Life\n",
        "  error = [RUL_E[i] - T_RUL[i] for i in range(len(RUL_E))]\n",
        "\n",
        "  # Absolute Error\n",
        "  A_error= [abs(i) for i in error]\n",
        "\n",
        "  # MAE >> Mean Absolute Error\n",
        "  MAE = sum(A_error)/len(A_error)\n",
        "  print(\"Mean Absolute Error =\",MAE)\n",
        "\n",
        "  # MSE >> Mean Squared Error\n",
        "  SE= [i**2 for i in error]\n",
        "  MSE = sum(SE)/len(SE)\n",
        "  print(\"Mean Squared Error =\",MSE)\n",
        "\n",
        "  # False Positive Rate\n",
        "  FP = [RUL_E[i] for i in range(len(RUL_E)) if RUL_E[i] >= T_RUL[i]]\n",
        "  FPR = len(FP)/len(RUL_E)\n",
        "  \n",
        "  print(\"False Positive Rate =\",FPR , \"Your calculations are biased to \\\"Late in Time\\\" Predictions\") \\\n",
        "    if FPR>0.6 else print(\"False Positive Rate =\",FPR) \n",
        "\n",
        "  # False Negative Rate\n",
        "  FN = [RUL_E[i] for i in range(len(RUL_E)) if RUL_E[i] < T_RUL[i]]\n",
        "  FNR = len(FN)/len(RUL_E)\n",
        "  \n",
        "  print(\"False Negative Rate =\",FNR ,\"Your calculations are biased to \\\"Early in Time\\\" Predictions\") \\\n",
        "    if FNR>0.6 else print(\"False Negative Rate =\",FNR)\n",
        "\n",
        "  # Scoring Function of PHM08 Data Challenge\n",
        "  SF =  sum([math.exp(error[i]/a2) if error[i]>=0  else  math.exp(-error[i]/a1) for i in range(len(error))])-1\n",
        "  print(\"Scoring Function =\",SF)\n",
        "\n",
        "  return(MAE, MSE, FPR, FNR, SF)"
      ],
      "execution_count": 0,
      "outputs": []
    },
    {
      "cell_type": "code",
      "metadata": {
        "id": "8dRKdJTMHcei",
        "colab_type": "code",
        "colab": {
          "base_uri": "https://localhost:8080/",
          "height": 119
        },
        "outputId": "70fbb425-1711-4fd9-e469-d9ba40c66e06"
      },
      "source": [
        "MAE, MSE, FPR, FNR, SF = PrognosticsMetrics(T_RUL, RUL_E, a1, a2)"
      ],
      "execution_count": 216,
      "outputs": [
        {
          "output_type": "stream",
          "text": [
            "Prognostic Metrics are:\n",
            "Mean Absolute Error = 8.272727272727273\n",
            "Mean Squared Error = 155.36363636363637\n",
            "False Positive Rate = 0.6363636363636364 Your calculations are biased to \"Late in Time\" Predictions\n",
            "False Negative Rate = 0.36363636363636365\n",
            "Scoring Function = 42.914761215999484\n"
          ],
          "name": "stdout"
        }
      ]
    }
  ]
}